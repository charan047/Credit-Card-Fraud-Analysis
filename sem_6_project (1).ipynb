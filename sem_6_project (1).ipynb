{
  "nbformat": 4,
  "nbformat_minor": 0,
  "metadata": {
    "colab": {
      "provenance": []
    },
    "kernelspec": {
      "name": "python3",
      "display_name": "Python 3"
    },
    "language_info": {
      "name": "python"
    }
  },
  "cells": [
    {
      "cell_type": "code",
      "execution_count": null,
      "metadata": {
        "id": "P9k1K2PPYV-H"
      },
      "outputs": [],
      "source": [
        "import os\n",
        "import math\n",
        "import numpy as np\n",
        "import networkx as nx\n",
        "import matplotlib.pyplot as plt\n",
        "import pandas as pd\n",
        "%matplotlib inline"
      ]
    },
    {
      "cell_type": "code",
      "source": [
        "df = pd.DataFrame()\n",
        "df = pd.read_csv(\"fraudTest.csv\")\n",
        "df = df[df[\"is_fraud\"]==0].sample(frac=0.20,random_state=42).append(df[df[\"is_fraud\"]==1])\n",
        "df.head()"
      ],
      "metadata": {
        "colab": {
          "base_uri": "https://localhost:8080/",
          "height": 473
        },
        "id": "Oh3cPFU6ZFOl",
        "outputId": "00c0eb3e-4578-462b-a893-3291ad6dbaea"
      },
      "execution_count": null,
      "outputs": [
        {
          "output_type": "execute_result",
          "data": {
            "text/plain": [
              "       Unnamed: 0 trans_date_trans_time               cc_num  \\\n",
              "50035       50035   2020-07-07 23:36:22     4952583804639909   \n",
              "505           505   2020-06-21 15:06:20     4653879239169997   \n",
              "8096         8096   2020-06-23 14:36:06     4822367783500458   \n",
              "6000         6000   2020-06-22 23:28:37  4756039869079882102   \n",
              "28334       28334   2020-06-30 15:13:11     4450831335606294   \n",
              "\n",
              "                 merchant       category    amt        first       last  \\\n",
              "50035   fraud_Zboncak Ltd    food_dining  59.94     Patricia  Rodriguez   \n",
              "505     fraud_Kozey-Boehm   shopping_net   4.68       Monica     Tucker   \n",
              "8096   fraud_Parker-Kunde  personal_care   8.20  Christopher    Farrell   \n",
              "6000    fraud_Berge-Hills      kids_pets  99.41    Francisco  Hernandez   \n",
              "28334  fraud_Connelly PLC    food_dining   1.10        Donna      Davis   \n",
              "\n",
              "      gender                   street  ...      lat     long  city_pop  \\\n",
              "50035      F  386 Randolph Throughway  ...  41.2639 -80.8164     75903   \n",
              "505        F    302 Christina Islands  ...  37.0581 -86.1938      6841   \n",
              "8096       M      97070 Anderson Land  ...  28.0758 -81.5929     33804   \n",
              "6000       M        980 Smith Gardens  ...  33.6547 -97.1583     26120   \n",
              "28334      F       6760 Donovan Lakes  ...  34.5906 -95.3800      1760   \n",
              "\n",
              "                             job         dob  \\\n",
              "50035   Magazine features editor  1957-04-05   \n",
              "505            Therapist, sports  1999-06-06   \n",
              "8096       Exercise physiologist  1991-01-01   \n",
              "6000     Engineer, manufacturing  1954-01-06   \n",
              "28334  Occupational psychologist  1972-01-20   \n",
              "\n",
              "                              trans_num   unix_time  merch_lat merch_long  \\\n",
              "50035  131912b15f0f8f7a68df10deba18a254  1373240182  41.559973 -81.185544   \n",
              "505    05f8f3d9bd0d70ed2f59131c35c58be8  1371827180  37.673167 -86.154883   \n",
              "8096   f2d8e8fecbc6c3938d6b164630658ac6  1371998166  27.100526 -81.250153   \n",
              "6000   4b6590ab98d9856386b2b75453e1d7a9  1371943717  32.855236 -97.404431   \n",
              "28334  c0d24e1ebb919e1b35cc37e92bdcb791  1372605191  33.975861 -95.526924   \n",
              "\n",
              "       is_fraud  \n",
              "50035       0.0  \n",
              "505         0.0  \n",
              "8096        0.0  \n",
              "6000        0.0  \n",
              "28334       0.0  \n",
              "\n",
              "[5 rows x 23 columns]"
            ],
            "text/html": [
              "\n",
              "  <div id=\"df-b80df167-444f-4030-bcdc-11690b0f2343\">\n",
              "    <div class=\"colab-df-container\">\n",
              "      <div>\n",
              "<style scoped>\n",
              "    .dataframe tbody tr th:only-of-type {\n",
              "        vertical-align: middle;\n",
              "    }\n",
              "\n",
              "    .dataframe tbody tr th {\n",
              "        vertical-align: top;\n",
              "    }\n",
              "\n",
              "    .dataframe thead th {\n",
              "        text-align: right;\n",
              "    }\n",
              "</style>\n",
              "<table border=\"1\" class=\"dataframe\">\n",
              "  <thead>\n",
              "    <tr style=\"text-align: right;\">\n",
              "      <th></th>\n",
              "      <th>Unnamed: 0</th>\n",
              "      <th>trans_date_trans_time</th>\n",
              "      <th>cc_num</th>\n",
              "      <th>merchant</th>\n",
              "      <th>category</th>\n",
              "      <th>amt</th>\n",
              "      <th>first</th>\n",
              "      <th>last</th>\n",
              "      <th>gender</th>\n",
              "      <th>street</th>\n",
              "      <th>...</th>\n",
              "      <th>lat</th>\n",
              "      <th>long</th>\n",
              "      <th>city_pop</th>\n",
              "      <th>job</th>\n",
              "      <th>dob</th>\n",
              "      <th>trans_num</th>\n",
              "      <th>unix_time</th>\n",
              "      <th>merch_lat</th>\n",
              "      <th>merch_long</th>\n",
              "      <th>is_fraud</th>\n",
              "    </tr>\n",
              "  </thead>\n",
              "  <tbody>\n",
              "    <tr>\n",
              "      <th>50035</th>\n",
              "      <td>50035</td>\n",
              "      <td>2020-07-07 23:36:22</td>\n",
              "      <td>4952583804639909</td>\n",
              "      <td>fraud_Zboncak Ltd</td>\n",
              "      <td>food_dining</td>\n",
              "      <td>59.94</td>\n",
              "      <td>Patricia</td>\n",
              "      <td>Rodriguez</td>\n",
              "      <td>F</td>\n",
              "      <td>386 Randolph Throughway</td>\n",
              "      <td>...</td>\n",
              "      <td>41.2639</td>\n",
              "      <td>-80.8164</td>\n",
              "      <td>75903</td>\n",
              "      <td>Magazine features editor</td>\n",
              "      <td>1957-04-05</td>\n",
              "      <td>131912b15f0f8f7a68df10deba18a254</td>\n",
              "      <td>1373240182</td>\n",
              "      <td>41.559973</td>\n",
              "      <td>-81.185544</td>\n",
              "      <td>0.0</td>\n",
              "    </tr>\n",
              "    <tr>\n",
              "      <th>505</th>\n",
              "      <td>505</td>\n",
              "      <td>2020-06-21 15:06:20</td>\n",
              "      <td>4653879239169997</td>\n",
              "      <td>fraud_Kozey-Boehm</td>\n",
              "      <td>shopping_net</td>\n",
              "      <td>4.68</td>\n",
              "      <td>Monica</td>\n",
              "      <td>Tucker</td>\n",
              "      <td>F</td>\n",
              "      <td>302 Christina Islands</td>\n",
              "      <td>...</td>\n",
              "      <td>37.0581</td>\n",
              "      <td>-86.1938</td>\n",
              "      <td>6841</td>\n",
              "      <td>Therapist, sports</td>\n",
              "      <td>1999-06-06</td>\n",
              "      <td>05f8f3d9bd0d70ed2f59131c35c58be8</td>\n",
              "      <td>1371827180</td>\n",
              "      <td>37.673167</td>\n",
              "      <td>-86.154883</td>\n",
              "      <td>0.0</td>\n",
              "    </tr>\n",
              "    <tr>\n",
              "      <th>8096</th>\n",
              "      <td>8096</td>\n",
              "      <td>2020-06-23 14:36:06</td>\n",
              "      <td>4822367783500458</td>\n",
              "      <td>fraud_Parker-Kunde</td>\n",
              "      <td>personal_care</td>\n",
              "      <td>8.20</td>\n",
              "      <td>Christopher</td>\n",
              "      <td>Farrell</td>\n",
              "      <td>M</td>\n",
              "      <td>97070 Anderson Land</td>\n",
              "      <td>...</td>\n",
              "      <td>28.0758</td>\n",
              "      <td>-81.5929</td>\n",
              "      <td>33804</td>\n",
              "      <td>Exercise physiologist</td>\n",
              "      <td>1991-01-01</td>\n",
              "      <td>f2d8e8fecbc6c3938d6b164630658ac6</td>\n",
              "      <td>1371998166</td>\n",
              "      <td>27.100526</td>\n",
              "      <td>-81.250153</td>\n",
              "      <td>0.0</td>\n",
              "    </tr>\n",
              "    <tr>\n",
              "      <th>6000</th>\n",
              "      <td>6000</td>\n",
              "      <td>2020-06-22 23:28:37</td>\n",
              "      <td>4756039869079882102</td>\n",
              "      <td>fraud_Berge-Hills</td>\n",
              "      <td>kids_pets</td>\n",
              "      <td>99.41</td>\n",
              "      <td>Francisco</td>\n",
              "      <td>Hernandez</td>\n",
              "      <td>M</td>\n",
              "      <td>980 Smith Gardens</td>\n",
              "      <td>...</td>\n",
              "      <td>33.6547</td>\n",
              "      <td>-97.1583</td>\n",
              "      <td>26120</td>\n",
              "      <td>Engineer, manufacturing</td>\n",
              "      <td>1954-01-06</td>\n",
              "      <td>4b6590ab98d9856386b2b75453e1d7a9</td>\n",
              "      <td>1371943717</td>\n",
              "      <td>32.855236</td>\n",
              "      <td>-97.404431</td>\n",
              "      <td>0.0</td>\n",
              "    </tr>\n",
              "    <tr>\n",
              "      <th>28334</th>\n",
              "      <td>28334</td>\n",
              "      <td>2020-06-30 15:13:11</td>\n",
              "      <td>4450831335606294</td>\n",
              "      <td>fraud_Connelly PLC</td>\n",
              "      <td>food_dining</td>\n",
              "      <td>1.10</td>\n",
              "      <td>Donna</td>\n",
              "      <td>Davis</td>\n",
              "      <td>F</td>\n",
              "      <td>6760 Donovan Lakes</td>\n",
              "      <td>...</td>\n",
              "      <td>34.5906</td>\n",
              "      <td>-95.3800</td>\n",
              "      <td>1760</td>\n",
              "      <td>Occupational psychologist</td>\n",
              "      <td>1972-01-20</td>\n",
              "      <td>c0d24e1ebb919e1b35cc37e92bdcb791</td>\n",
              "      <td>1372605191</td>\n",
              "      <td>33.975861</td>\n",
              "      <td>-95.526924</td>\n",
              "      <td>0.0</td>\n",
              "    </tr>\n",
              "  </tbody>\n",
              "</table>\n",
              "<p>5 rows × 23 columns</p>\n",
              "</div>\n",
              "      <button class=\"colab-df-convert\" onclick=\"convertToInteractive('df-b80df167-444f-4030-bcdc-11690b0f2343')\"\n",
              "              title=\"Convert this dataframe to an interactive table.\"\n",
              "              style=\"display:none;\">\n",
              "        \n",
              "  <svg xmlns=\"http://www.w3.org/2000/svg\" height=\"24px\"viewBox=\"0 0 24 24\"\n",
              "       width=\"24px\">\n",
              "    <path d=\"M0 0h24v24H0V0z\" fill=\"none\"/>\n",
              "    <path d=\"M18.56 5.44l.94 2.06.94-2.06 2.06-.94-2.06-.94-.94-2.06-.94 2.06-2.06.94zm-11 1L8.5 8.5l.94-2.06 2.06-.94-2.06-.94L8.5 2.5l-.94 2.06-2.06.94zm10 10l.94 2.06.94-2.06 2.06-.94-2.06-.94-.94-2.06-.94 2.06-2.06.94z\"/><path d=\"M17.41 7.96l-1.37-1.37c-.4-.4-.92-.59-1.43-.59-.52 0-1.04.2-1.43.59L10.3 9.45l-7.72 7.72c-.78.78-.78 2.05 0 2.83L4 21.41c.39.39.9.59 1.41.59.51 0 1.02-.2 1.41-.59l7.78-7.78 2.81-2.81c.8-.78.8-2.07 0-2.86zM5.41 20L4 18.59l7.72-7.72 1.47 1.35L5.41 20z\"/>\n",
              "  </svg>\n",
              "      </button>\n",
              "      \n",
              "  <style>\n",
              "    .colab-df-container {\n",
              "      display:flex;\n",
              "      flex-wrap:wrap;\n",
              "      gap: 12px;\n",
              "    }\n",
              "\n",
              "    .colab-df-convert {\n",
              "      background-color: #E8F0FE;\n",
              "      border: none;\n",
              "      border-radius: 50%;\n",
              "      cursor: pointer;\n",
              "      display: none;\n",
              "      fill: #1967D2;\n",
              "      height: 32px;\n",
              "      padding: 0 0 0 0;\n",
              "      width: 32px;\n",
              "    }\n",
              "\n",
              "    .colab-df-convert:hover {\n",
              "      background-color: #E2EBFA;\n",
              "      box-shadow: 0px 1px 2px rgba(60, 64, 67, 0.3), 0px 1px 3px 1px rgba(60, 64, 67, 0.15);\n",
              "      fill: #174EA6;\n",
              "    }\n",
              "\n",
              "    [theme=dark] .colab-df-convert {\n",
              "      background-color: #3B4455;\n",
              "      fill: #D2E3FC;\n",
              "    }\n",
              "\n",
              "    [theme=dark] .colab-df-convert:hover {\n",
              "      background-color: #434B5C;\n",
              "      box-shadow: 0px 1px 3px 1px rgba(0, 0, 0, 0.15);\n",
              "      filter: drop-shadow(0px 1px 2px rgba(0, 0, 0, 0.3));\n",
              "      fill: #FFFFFF;\n",
              "    }\n",
              "  </style>\n",
              "\n",
              "      <script>\n",
              "        const buttonEl =\n",
              "          document.querySelector('#df-b80df167-444f-4030-bcdc-11690b0f2343 button.colab-df-convert');\n",
              "        buttonEl.style.display =\n",
              "          google.colab.kernel.accessAllowed ? 'block' : 'none';\n",
              "\n",
              "        async function convertToInteractive(key) {\n",
              "          const element = document.querySelector('#df-b80df167-444f-4030-bcdc-11690b0f2343');\n",
              "          const dataTable =\n",
              "            await google.colab.kernel.invokeFunction('convertToInteractive',\n",
              "                                                     [key], {});\n",
              "          if (!dataTable) return;\n",
              "\n",
              "          const docLinkHtml = 'Like what you see? Visit the ' +\n",
              "            '<a target=\"_blank\" href=https://colab.research.google.com/notebooks/data_table.ipynb>data table notebook</a>'\n",
              "            + ' to learn more about interactive tables.';\n",
              "          element.innerHTML = '';\n",
              "          dataTable['output_type'] = 'display_data';\n",
              "          await google.colab.output.renderOutput(dataTable, element);\n",
              "          const docLink = document.createElement('div');\n",
              "          docLink.innerHTML = docLinkHtml;\n",
              "          element.appendChild(docLink);\n",
              "        }\n",
              "      </script>\n",
              "    </div>\n",
              "  </div>\n",
              "  "
            ]
          },
          "metadata": {},
          "execution_count": 2
        }
      ]
    },
    {
      "cell_type": "code",
      "source": [
        "df.info()"
      ],
      "metadata": {
        "id": "NmOKzUy2c-V0",
        "colab": {
          "base_uri": "https://localhost:8080/"
        },
        "outputId": "65db9bd4-1665-405d-ad64-0a62811f4aff"
      },
      "execution_count": null,
      "outputs": [
        {
          "output_type": "stream",
          "name": "stdout",
          "text": [
            "<class 'pandas.core.frame.DataFrame'>\n",
            "Int64Index: 23680 entries, 50035 to 116112\n",
            "Data columns (total 23 columns):\n",
            " #   Column                 Non-Null Count  Dtype  \n",
            "---  ------                 --------------  -----  \n",
            " 0   Unnamed: 0             23680 non-null  int64  \n",
            " 1   trans_date_trans_time  23680 non-null  object \n",
            " 2   cc_num                 23680 non-null  int64  \n",
            " 3   merchant               23680 non-null  object \n",
            " 4   category               23680 non-null  object \n",
            " 5   amt                    23680 non-null  float64\n",
            " 6   first                  23680 non-null  object \n",
            " 7   last                   23680 non-null  object \n",
            " 8   gender                 23680 non-null  object \n",
            " 9   street                 23680 non-null  object \n",
            " 10  city                   23680 non-null  object \n",
            " 11  state                  23680 non-null  object \n",
            " 12  zip                    23680 non-null  int64  \n",
            " 13  lat                    23680 non-null  float64\n",
            " 14  long                   23680 non-null  float64\n",
            " 15  city_pop               23680 non-null  int64  \n",
            " 16  job                    23680 non-null  object \n",
            " 17  dob                    23680 non-null  object \n",
            " 18  trans_num              23680 non-null  object \n",
            " 19  unix_time              23680 non-null  int64  \n",
            " 20  merch_lat              23680 non-null  float64\n",
            " 21  merch_long             23680 non-null  float64\n",
            " 22  is_fraud               23680 non-null  float64\n",
            "dtypes: float64(6), int64(5), object(12)\n",
            "memory usage: 4.3+ MB\n"
          ]
        }
      ]
    },
    {
      "cell_type": "code",
      "source": [
        "df[\"is_fraud\"].value_counts()"
      ],
      "metadata": {
        "id": "HwNdJFsIc_uR",
        "colab": {
          "base_uri": "https://localhost:8080/"
        },
        "outputId": "817e9847-02dd-4458-b1b5-fa15630d668b"
      },
      "execution_count": null,
      "outputs": [
        {
          "output_type": "execute_result",
          "data": {
            "text/plain": [
              "0.0    23225\n",
              "1.0      455\n",
              "Name: is_fraud, dtype: int64"
            ]
          },
          "metadata": {},
          "execution_count": 4
        }
      ]
    },
    {
      "cell_type": "code",
      "source": [
        "def bipartile(df_input,graph_type=nx.Graph()):\n",
        "  df = df_input.copy()\n",
        "  mapping = {x:node_id for node_id,x in enumerate(set(df[\"cc_num\"].values.tolist() + df[\"merchant\"].values.tolist()))}\n",
        "  df[\"from\"] = df[\"cc_num\"].apply(lambda x:mapping[x])\n",
        "  df[\"to\"] = df[\"merchant\"].apply(lambda x:mapping[x])\n",
        "  df = df[['from','to',\"amt\",\"is_fraud\"]].groupby(['from','to']).agg({\"is_fraud\":\"sum\",\"amt\":\"sum\"}).reset_index()\n",
        "  df[\"is_fraud\"]=df[\"is_fraud\"].apply(lambda x:1 if x>0 else 0)\n",
        "  G = nx.from_edgelist(df[[\"from\",\"to\"]].values,create_using=graph_type)\n",
        "  nx.set_node_attributes(G,{x:1 for x in df[\"from\"].unique()},\"bipartite\")\n",
        "  nx.set_node_attributes(G,{x:2 for x in df[\"to\"].unique()},\"bipartite\")\n",
        "  nx.set_edge_attributes(G,{(int(x[\"from\"]),int(x[\"to\"])):x[\"is_fraud\"] for idx,x in df[[\"from\",\"to\",\"is_fraud\"]].iterrows()},\"label\")\n",
        "  nx.set_edge_attributes(G,{(int(x[\"from\"]),int(x[\"to\"])):x[\"amt\"] for idx,x in df[[\"from\",\"to\",\"amt\"]].iterrows()},\"weight\")\n",
        "  return G\n"
      ],
      "metadata": {
        "id": "i-jFaTdDdDm3"
      },
      "execution_count": null,
      "outputs": []
    },
    {
      "cell_type": "code",
      "source": [
        "def tripartile(df_input,graph_type=nx.Graph()):\n",
        "  df = df_input.copy()\n",
        "  mapping = {x:node_id for node_id,x in enumerate(set(df.index.values.tolist()+df[\"cc_num\"].values.tolist()+df[\"merchant\"].values.tolist()))}\n",
        "  df[\"in_node\"] = df[\"cc_num\"].apply(lambda x:mapping[x])\n",
        "  df[\"out_node\"] = df[\"merchant\"].apply(lambda x:mapping[x])\n",
        "  G = nx.from_edgelist([(x[\"in_node\"],mapping[idx]) for idx, x in df.iterrows()] + [(x[\"out_node\"],mapping[idx]) for idx, x in df.iterrows()],create_using=graph_type)\n",
        "  nx.set_node_attributes(G,{x[\"in_node\"]:1 for idx,x in df.iterrows()},\"bipartite\")\n",
        "  nx.set_node_attributes(G,{x[\"out_node\"]:2 for idx,x in df.iterrows()},\"bipartite\")\n",
        "  nx.set_node_attributes(G,{mapping[idx]:3 for idx,x in df.iterrows()},\"bipartite\")\n",
        "\n",
        "  nx.set_node_attributes(G,{(x[\"in_node\"],mapping[idx]):x[\"is_fraud\"] for idx,x in df.iterrows()},\"label\")\n",
        "  nx.set_node_attributes(G,{(x[\"out_node\"],mapping[idx]):x[\"is_fraud\"] for idx,x in df.iterrows()},\"label\")\n",
        "\n",
        "  nx.set_node_attributes(G,{(x[\"in_node\"],mapping[idx]):x[\"amt\"] for idx,x in df.iterrows()},\"weight\")\n",
        "  nx.set_node_attributes(G,{(x[\"out_node\"],mapping[idx]):x[\"amt\"] for idx,x in df.iterrows()},\"weight\")\n",
        "\n",
        "  return G\n"
      ],
      "metadata": {
        "id": "e8NaEEmvaaxw"
      },
      "execution_count": null,
      "outputs": []
    },
    {
      "cell_type": "code",
      "source": [
        "G_bu = bipartile(df,nx.Graph(name='Bipartite Undirected'))\n",
        "G_bu = bipartile(df,nx.Graph(name='Bipartite Directed'))\n",
        "G_tu = tripartile(df,nx.Graph(name='Tripartite Undirected'))\n",
        "G_tu = tripartile(df,nx.Graph(name='Tripartite Directed'))"
      ],
      "metadata": {
        "id": "mB8-XEDJjggM"
      },
      "execution_count": null,
      "outputs": []
    },
    {
      "cell_type": "code",
      "source": [
        "from networkx.algorithms import bipartite\n",
        "bipartite.is_bipartite(G_bu)"
      ],
      "metadata": {
        "colab": {
          "base_uri": "https://localhost:8080/"
        },
        "id": "bHHQ9VTHjgkC",
        "outputId": "2d9b7aca-6b8c-4402-8158-450c99b37e62"
      },
      "execution_count": null,
      "outputs": [
        {
          "output_type": "execute_result",
          "data": {
            "text/plain": [
              "True"
            ]
          },
          "metadata": {},
          "execution_count": 17
        }
      ]
    },
    {
      "cell_type": "code",
      "source": [
        "print(nx.info(G_bu))"
      ],
      "metadata": {
        "colab": {
          "base_uri": "https://localhost:8080/",
          "height": 171
        },
        "id": "97NGSvqGjgmP",
        "outputId": "c2228618-b3ba-4fb9-a9dd-40f3724185cf"
      },
      "execution_count": null,
      "outputs": [
        {
          "output_type": "error",
          "ename": "AttributeError",
          "evalue": "ignored",
          "traceback": [
            "\u001b[0;31m---------------------------------------------------------------------------\u001b[0m",
            "\u001b[0;31mAttributeError\u001b[0m                            Traceback (most recent call last)",
            "\u001b[0;32m<ipython-input-11-0f24f704b9ea>\u001b[0m in \u001b[0;36m<module>\u001b[0;34m\u001b[0m\n\u001b[0;32m----> 1\u001b[0;31m \u001b[0mprint\u001b[0m\u001b[0;34m(\u001b[0m\u001b[0mnx\u001b[0m\u001b[0;34m.\u001b[0m\u001b[0minfo\u001b[0m\u001b[0;34m(\u001b[0m\u001b[0mG_bu\u001b[0m\u001b[0;34m)\u001b[0m\u001b[0;34m)\u001b[0m\u001b[0;34m\u001b[0m\u001b[0;34m\u001b[0m\u001b[0m\n\u001b[0m",
            "\u001b[0;31mAttributeError\u001b[0m: module 'networkx' has no attribute 'info'"
          ]
        }
      ]
    },
    {
      "cell_type": "code",
      "source": [
        "for G in [G_bu,G_tu]:\n",
        "  plt.figure(figsize=(10,10))\n",
        "  degrees = pd.Series(\n",
        "      {\n",
        "          k:v for k,v in nx.degree(G)\n",
        "      }\n",
        "  )\n",
        "  degrees.plot.hist()\n",
        "  plt.yscale(\"log\")"
      ],
      "metadata": {
        "colab": {
          "base_uri": "https://localhost:8080/",
          "height": 1000
        },
        "id": "9u8Ox9UDjgoZ",
        "outputId": "36190d87-b361-4740-d3a7-8dba56700ac4"
      },
      "execution_count": null,
      "outputs": [
        {
          "output_type": "display_data",
          "data": {
            "text/plain": [
              "<Figure size 720x720 with 1 Axes>"
            ],
            "image/png": "[encoded data removed]"
          },
          "metadata": {
            "needs_background": "light"
          }
        },
        {
          "output_type": "display_data",
          "data": {
            "text/plain": [
              "<Figure size 720x720 with 1 Axes>"
            ],
            "image/png": "[encoded data removed]"
          },
          "metadata": {
            "needs_background": "light"
          }
        }
      ]
    },
    {
      "cell_type": "code",
      "source": [
        "X, Y = bipartite.sets(G)\n",
        "pos = dict()\n",
        "pos.update( (n, (1, i)) for i, n in enumerate(X) ) # put nodes from X at x=1\n",
        "pos.update( (n, (2, i)) for i, n in enumerate(Y) ) # put nodes from Y at x=2\n",
        "nx.draw(G, pos=pos)\n",
        "plt.show()"
      ],
      "metadata": {
        "colab": {
          "base_uri": "https://localhost:8080/",
          "height": 319
        },
        "id": "P9P0FGKnjgqx",
        "outputId": "3b02a777-1df3-400b-ff25-ef442664c9b1"
      },
      "execution_count": null,
      "outputs": [
        {
          "output_type": "display_data",
          "data": {
            "text/plain": [
              "<Figure size 432x288 with 1 Axes>"
            ],
            "image/png": "[encoded data removed]"
          },
          "metadata": {}
        }
      ]
    },
    {
      "cell_type": "code",
      "source": [
        "nx.betweenness_centrality()"
      ],
      "metadata": {
        "colab": {
          "base_uri": "https://localhost:8080/",
          "height": 317
        },
        "id": "eKo92fFExGYe",
        "outputId": "19cc7d7d-eb7d-43a1-e83e-e466b4969ede"
      },
      "execution_count": null,
      "outputs": [
        {
          "output_type": "error",
          "ename": "IndexError",
          "evalue": "ignored",
          "traceback": [
            "\u001b[0;31m---------------------------------------------------------------------------\u001b[0m",
            "\u001b[0;31mIndexError\u001b[0m                                Traceback (most recent call last)",
            "\u001b[0;32m<ipython-input-20-abb17fab6eef>\u001b[0m in \u001b[0;36m<module>\u001b[0;34m\u001b[0m\n\u001b[0;32m----> 1\u001b[0;31m \u001b[0mnx\u001b[0m\u001b[0;34m.\u001b[0m\u001b[0mbetweenness_centrality\u001b[0m\u001b[0;34m(\u001b[0m\u001b[0;34m)\u001b[0m\u001b[0;34m\u001b[0m\u001b[0;34m\u001b[0m\u001b[0m\n\u001b[0m",
            "\u001b[0;32m/usr/local/lib/python3.8/dist-packages/networkx/classes/backends.py\u001b[0m in \u001b[0;36mwrapper\u001b[0;34m(*args, **kwds)\u001b[0m\n\u001b[1;32m    132\u001b[0m     \u001b[0;34m@\u001b[0m\u001b[0mfunctools\u001b[0m\u001b[0;34m.\u001b[0m\u001b[0mwraps\u001b[0m\u001b[0;34m(\u001b[0m\u001b[0mfunc\u001b[0m\u001b[0;34m)\u001b[0m\u001b[0;34m\u001b[0m\u001b[0;34m\u001b[0m\u001b[0m\n\u001b[1;32m    133\u001b[0m     \u001b[0;32mdef\u001b[0m \u001b[0mwrapper\u001b[0m\u001b[0;34m(\u001b[0m\u001b[0;34m*\u001b[0m\u001b[0margs\u001b[0m\u001b[0;34m,\u001b[0m \u001b[0;34m**\u001b[0m\u001b[0mkwds\u001b[0m\u001b[0;34m)\u001b[0m\u001b[0;34m:\u001b[0m\u001b[0;34m\u001b[0m\u001b[0;34m\u001b[0m\u001b[0m\n\u001b[0;32m--> 134\u001b[0;31m         \u001b[0mgraph\u001b[0m \u001b[0;34m=\u001b[0m \u001b[0margs\u001b[0m\u001b[0;34m[\u001b[0m\u001b[0;36m0\u001b[0m\u001b[0;34m]\u001b[0m\u001b[0;34m\u001b[0m\u001b[0;34m\u001b[0m\u001b[0m\n\u001b[0m\u001b[1;32m    135\u001b[0m         \u001b[0;32mif\u001b[0m \u001b[0mhasattr\u001b[0m\u001b[0;34m(\u001b[0m\u001b[0mgraph\u001b[0m\u001b[0;34m,\u001b[0m \u001b[0;34m\"__networkx_plugin__\"\u001b[0m\u001b[0;34m)\u001b[0m \u001b[0;32mand\u001b[0m \u001b[0mplugins\u001b[0m\u001b[0;34m:\u001b[0m\u001b[0;34m\u001b[0m\u001b[0;34m\u001b[0m\u001b[0m\n\u001b[1;32m    136\u001b[0m             \u001b[0mplugin_name\u001b[0m \u001b[0;34m=\u001b[0m \u001b[0mgraph\u001b[0m\u001b[0;34m.\u001b[0m\u001b[0m__networkx_plugin__\u001b[0m\u001b[0;34m\u001b[0m\u001b[0;34m\u001b[0m\u001b[0m\n",
            "\u001b[0;31mIndexError\u001b[0m: tuple index out of range"
          ]
        }
      ]
    },
    {
      "cell_type": "code",
      "source": [
        "#assortativity\n",
        "nx.degree_pearson_correlation_coefficient(G_bu)"
      ],
      "metadata": {
        "colab": {
          "base_uri": "https://localhost:8080/"
        },
        "id": "YokGICqCjguO",
        "outputId": "d534132e-bb56-46ef-9286-53603e7c0e98"
      },
      "execution_count": null,
      "outputs": [
        {
          "output_type": "execute_result",
          "data": {
            "text/plain": [
              "-0.04142965326793098"
            ]
          },
          "metadata": {},
          "execution_count": 21
        }
      ]
    },
    {
      "cell_type": "code",
      "source": [
        "nx.degree_pearson_correlation_coefficient(G_tu)"
      ],
      "metadata": {
        "id": "ABsr-OsFnhPy",
        "colab": {
          "base_uri": "https://localhost:8080/"
        },
        "outputId": "13ced307-ccc2-49e6-e94d-a83f202d824e"
      },
      "execution_count": null,
      "outputs": [
        {
          "output_type": "execute_result",
          "data": {
            "text/plain": [
              "-0.7702224048671584"
            ]
          },
          "metadata": {},
          "execution_count": 22
        }
      ]
    },
    {
      "cell_type": "code",
      "source": [
        "pip install python-louvain"
      ],
      "metadata": {
        "colab": {
          "base_uri": "https://localhost:8080/"
        },
        "id": "quM3ZWYCyLNd",
        "outputId": "9d6cd289-4df4-41aa-ef84-d0f603b863a5"
      },
      "execution_count": null,
      "outputs": [
        {
          "output_type": "stream",
          "name": "stdout",
          "text": [
            "Looking in indexes: https://pypi.org/simple, https://us-python.pkg.dev/colab-wheels/public/simple/\n",
            "Requirement already satisfied: python-louvain in /usr/local/lib/python3.8/dist-packages (0.16)\n",
            "Requirement already satisfied: networkx in /usr/local/lib/python3.8/dist-packages (from python-louvain) (3.0)\n",
            "Requirement already satisfied: numpy in /usr/local/lib/python3.8/dist-packages (from python-louvain) (1.22.4)\n"
          ]
        }
      ]
    },
    {
      "cell_type": "code",
      "source": [
        "import community.community_louvain\n",
        "parts = community_louvain.best_partition(G_bu,random_state=42,weight='weight')\n",
        "communities = pd.Series(parts)\n",
        "communities.value_counts().sort_values(ascending=False)"
      ],
      "metadata": {
        "colab": {
          "base_uri": "https://localhost:8080/"
        },
        "id": "GQJRnoe1xinh",
        "outputId": "1792655b-35b4-466e-b4ec-81efc337d040"
      },
      "execution_count": null,
      "outputs": [
        {
          "output_type": "execute_result",
          "data": {
            "text/plain": [
              "19    114\n",
              "24    105\n",
              "16    101\n",
              "2     100\n",
              "8      96\n",
              "9      86\n",
              "23     80\n",
              "13     80\n",
              "11     79\n",
              "15     78\n",
              "17     75\n",
              "0      75\n",
              "14     73\n",
              "5      67\n",
              "4      63\n",
              "3      61\n",
              "7      59\n",
              "6      51\n",
              "12     48\n",
              "10     31\n",
              "20     29\n",
              "1      23\n",
              "18     16\n",
              "22     12\n",
              "21      3\n",
              "dtype: int64"
            ]
          },
          "metadata": {},
          "execution_count": 29
        }
      ]
    },
    {
      "cell_type": "code",
      "source": [
        "communities.value_counts().plot.hist(bins=20)"
      ],
      "metadata": {
        "colab": {
          "base_uri": "https://localhost:8080/",
          "height": 283
        },
        "id": "JhGXs1OkzB_D",
        "outputId": "0fe5b09a-9a06-44b6-a0de-08c51e756ef4"
      },
      "execution_count": null,
      "outputs": [
        {
          "output_type": "execute_result",
          "data": {
            "text/plain": [
              "<AxesSubplot:ylabel='Frequency'>"
            ]
          },
          "metadata": {},
          "execution_count": 30
        },
        {
          "output_type": "display_data",
          "data": {
            "text/plain": [
              "<Figure size 432x288 with 1 Axes>"
            ],
            "image/png": "[encoded data removed]"
          },
          "metadata": {
            "needs_background": "light"
          }
        }
      ]
    },
    {
      "cell_type": "code",
      "source": [
        "# ratio of fradulent / benign nodes in communities detected\n",
        "graphs = []\n",
        "d = {}\n",
        "for x in communities.unique():\n",
        "  tmp = nx.subgraph(G_bu,communities[communities==x].index)\n",
        "  fraud_edges = sum(nx.get_edge_attributes(tmp,\"label\").values())\n",
        "  ratio = 0 if fraud_edges == 0 else (fraud_edges/tmp.number_of_edges()) * 100\n",
        "  d[x] = ratio\n",
        "  graphs += [tmp]\n",
        "pd.Series(d).sort_values(ascending=False)"
      ],
      "metadata": {
        "colab": {
          "base_uri": "https://localhost:8080/"
        },
        "id": "Z9PD9NrkzNmc",
        "outputId": "e2d63b93-91d6-4731-d792-4ad5ffbbab33"
      },
      "execution_count": null,
      "outputs": [
        {
          "output_type": "execute_result",
          "data": {
            "text/plain": [
              "2     26.178010\n",
              "15    13.793103\n",
              "10    12.195122\n",
              "23    12.142857\n",
              "4     11.111111\n",
              "7     10.714286\n",
              "0      9.848485\n",
              "19     7.865169\n",
              "14     6.201550\n",
              "13     4.705882\n",
              "5      4.273504\n",
              "3      3.669725\n",
              "24     3.463203\n",
              "11     3.370787\n",
              "17     3.007519\n",
              "16     2.164502\n",
              "8      1.047120\n",
              "9      0.000000\n",
              "12     0.000000\n",
              "6      0.000000\n",
              "20     0.000000\n",
              "21     0.000000\n",
              "1      0.000000\n",
              "18     0.000000\n",
              "22     0.000000\n",
              "dtype: float64"
            ]
          },
          "metadata": {},
          "execution_count": 32
        }
      ]
    },
    {
      "cell_type": "code",
      "source": [
        "#fraud edges in each community id\n",
        "gId = 15\n",
        "plt.figure(figsize=(10,10))\n",
        "spring_pos = nx.spring_layout(graphs[gId])\n",
        "plt.axis(\"off\")\n",
        "edge_colors = [\"r\" if x==1 else \"g\" for x in nx.get_edge_attributes(graphs[gId],'label').values()]\n",
        "nx.draw_networkx(graphs[gId],pos=spring_pos,node_color=\"tab:red\",edge_color=edge_colors,with_labels=True,node_size=15)"
      ],
      "metadata": {
        "id": "EIPvzkBMnHal",
        "colab": {
          "base_uri": "https://localhost:8080/",
          "height": 575
        },
        "outputId": "53793d40-6322-4b1d-fdef-a2cb71019444"
      },
      "execution_count": null,
      "outputs": [
        {
          "output_type": "display_data",
          "data": {
            "text/plain": [
              "<Figure size 720x720 with 1 Axes>"
            ],
            "image/png": "[encoded data removed]"
          },
          "metadata": {}
        }
      ]
    },
    {
      "cell_type": "code",
      "source": [
        "# Model Building"
      ],
      "metadata": {
        "id": "M0Yma1e616XW"
      },
      "execution_count": null,
      "outputs": []
    },
    {
      "cell_type": "code",
      "source": [],
      "metadata": {
        "id": "X3ZKPHps16Z0"
      },
      "execution_count": null,
      "outputs": []
    },
    {
      "cell_type": "code",
      "source": [],
      "metadata": {
        "id": "D0LjrQF816cC"
      },
      "execution_count": null,
      "outputs": []
    },
    {
      "cell_type": "code",
      "source": [],
      "metadata": {
        "id": "OtNgIyaa16fZ"
      },
      "execution_count": null,
      "outputs": []
    }
  ]
}